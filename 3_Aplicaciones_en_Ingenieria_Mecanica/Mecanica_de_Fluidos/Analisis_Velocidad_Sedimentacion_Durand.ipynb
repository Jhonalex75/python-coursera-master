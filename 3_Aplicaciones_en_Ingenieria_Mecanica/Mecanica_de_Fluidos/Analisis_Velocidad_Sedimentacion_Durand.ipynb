{
 "cells": [
  {
   "cell_type": "markdown",
   "metadata": {},
   "source": [
    "# Análisis de la Velocidad de Sedimentación Límite (Diagrama de Durand) - Interactivo\n",
    "## Introducción a la Sedimentación en Ingeniería Mecánica\n",
    "\n",
    "La **velocidad de sedimentación** es un concepto crucial en diversas aplicaciones de ingeniería mecánica y de procesos, especialmente en el manejo de fluidos con sólidos en suspensión (lodos o pulpas). Comprender cómo las partículas sólidas se asientan en un fluido es vital para el diseño de sistemas de transporte de lodos, tanques de sedimentación, ciclones y otros equipos de separación.\n",
    "\n",
    "Cuando un fluido transporta partículas sólidas, existe una velocidad mínima del fluido por debajo de la cual las partículas comienzan a asentarse en el fondo de la tubería o canal, lo que puede llevar a la obstrucción y a problemas operativos. Esta velocidad mínima se conoce como **velocidad de sedimentación límite** o **velocidad crítica de depósito**.\n",
    "\n",
    "---"
   ]
  },
  {
   "cell_type": "markdown",
   "metadata": {},
   "source": [
    "## Ecuación de Durand para la Velocidad de Sedimentación Límite\n",
    "\n",
    "Una de las correlaciones más utilizadas para estimar la velocidad de sedimentación límite en tuberías es la propuesta por **Durand**. Esta ecuación relaciona la velocidad con el diámetro de la tubería, la gravedad específica de los sólidos y un factor de fricción de la línea.\n",
    "\n",
    "La forma general de la ecuación de Durand es:\n",
    "\n",
    "$$ V_L = F_L \cdot \sqrt{2 \cdot g \cdot D \cdot (S - 1)} $$\n",
    "\n",
    "Donde:\n",
    "*   `V_L`: Velocidad de sedimentación límite (m/s)\n",
    "*   `F_L`: Factor de fricción de la línea (adimensional). Este factor depende de la concentración de sólidos, el tamaño de partícula y las características del flujo. A menudo se obtiene de gráficos empíricos o correlaciones más complejas.\n",
    "*   `g`: Aceleración debido a la gravedad (9.81 m/s²)\n",
    "*   `D`: Diámetro interno de la tubería (m)\n",
    "*   `S`: Gravedad específica de los sólidos (adimensional), definida como la relación entre la densidad de los sólidos y la densidad del fluido.\n",
    "\n",
    "### Nota sobre $F_L$:\n",
    "\n",
    "El factor $F_L$ es empírico y su valor exacto puede variar. Para este ejemplo, utilizaremos un valor constante para ilustrar la relación entre las otras variables. En aplicaciones reales, $F_L$ se determinaría a partir de datos experimentales o correlaciones específicas para el tipo de lodo y condiciones de flujo."
   ]
  },
  {
   "cell_type": "markdown",
   "metadata": {},
   "source": [
    "## Simulación Interactiva: Explorando la Velocidad de Sedimentación Límite\n",
    "\n",
    "Ajusta los sliders a continuación para cambiar los parámetros y observa cómo la velocidad de sedimentación límite (`V_L`) se ve afectada. Esto te permitirá comprender de forma interactiva las relaciones entre el diámetro de la tubería, la gravedad específica de los sólidos y el factor de fricción de la línea.\n",
    "\n",
    "**Parámetros Ajustables:**\n",
    "*   **Factor de Fricción de la Línea (`FL`):** Un valor empírico que depende de las características del lodo.\n",
    "*   **Diámetro de Tubería (`D`):** El diámetro interno de la tubería.\n",
    "*   **Gravedad Específica de Sólidos (`S`):** La densidad de los sólidos en relación con el fluido."
   ]
  },
  {
   "cell_type": "code",
   "execution_count": null,
   "metadata": {},
   "outputs": [],
   "source": [
    "import numpy as np\n",
    "import matplotlib.pyplot as plt\n",
    "from ipywidgets import interact, FloatSlider, Layout\n",
    "from IPython.display import display, clear_output\n",
    "\n",
    "# Configuración inicial para el gráfico\n",
    "plt.rcParams['figure.figsize'] = [10, 6] # Tamaño del gráfico\n",
    "plt.rcParams['figure.dpi'] = 100 # Resolución del gráfico\n",
    "\n",
    "# Aceleración debido a la gravedad\n",
    "g = 9.81  # m/s^2\n",
    "\n",
    "def calculate_VL(FL, D, S, g_val=9.81):\n",
    "    \"\"\"\n",
    "    Calcula la velocidad de sedimentación límite (VL) usando la ecuación de Durand.\n",
    "    Parámetros:\n",
    "    - FL: Factor de fricción de la línea (adimensional)\n",
    "    - D: Diámetro interno de la tubería (m)\n",
    "    - S: Gravedad específica de los sólidos (adimensional)\n",
    "    - g_val: Aceleración de la gravedad (m/s^2), por defecto 9.81\n",
    "    Retorna: VL (m/s)\n",
    "    \"\"\"\n",
    "    if S <= 1: # Si la gravedad específica es 1 o menor, no hay sedimentación\n",
    "        return 0.0\n",
    "    return FL * np.sqrt(2 * g_val * D * (S - 1))\n",
    "\n",
    "def plot_sedimentation_velocity(FL, D, S):\n",
    "    \"\"\"\n",
    "    Grafica la velocidad de sedimentación límite para los parámetros dados.\n",
    "    \"\"\"\n",
    "    clear_output(wait=True) # Limpiar la salida anterior para actualizar el gráfico\n",
    "\n",
    "    # Rango de Gravedad Específica para el gráfico\n",
    "    S_plot_values = np.linspace(1.0, 3.0, 100) # Rango más amplio para S\n",
    "\n",
    "    # Calcular VL para el rango de S\n",
    "    VL_calculated_values = [calculate_VL(FL, D, s_val) for s_val in S_plot_values]\n",
    "\n",
    "    # Crear el gráfico\n",
    "    plt.figure(figsize=(10, 6))\n",
    "    plt.plot(S_plot_values, VL_calculated_values, 'b-', linewidth=2)\n",
    "    \n",
    "    # Marcar el punto actual de VL para los sliders\n",
    "    current_VL = calculate_VL(FL, D, S)\n",
    "    plt.scatter(S, current_VL, color='red', s=100, zorder=5, label=f'VL Actual: {current_VL:.2f} m/s')\n",
    "\n",
    "    plt.xlabel('Gravedad Específica de los Sólidos (S) [-]', fontsize=12)\n",
    "    plt.ylabel('Velocidad de Sedimentación Límite (VL) [m/s]', fontsize=12)\n",
    "    plt.title(f'Velocidad de Sedimentación Límite (FL={FL:.2f}, D={D:.2f}m)', fontsize=14)\n",
    "    plt.grid(True, linestyle='--', alpha=0.7)\n",
    "    plt.legend()\n",
    "    plt.ylim(bottom=0) # Asegurar que el eje Y comience en 0\n",
    "    plt.show()\n",
    "\n",
    "# --- Creación de los Sliders Interactivos ---\n",
    "interact(plot_sedimentation_velocity,\n",
    "         FL=FloatSlider(min=0.5, max=2.0, step=0.01, value=1.34, description='Factor FL:', layout=Layout(width='auto')),\n",
    "         D=FloatSlider(min=0.01, max=1.0, step=0.01, value=0.2, description='Diámetro D (m):', layout=Layout(width='auto')),\n",
    "         S=FloatSlider(min=1.0, max=5.0, step=0.05, value=2.65, description='Gravedad Específica S:', layout=Layout(width='auto'))\n",
    "        );"
   ]
  },
  {
   "cell_type": "markdown",
   "metadata": {},
   "source": [
    "## Interpretación del Diagrama\n",
    "\n",
    "Este diagrama nos permite visualizar las siguientes relaciones:\n",
    "\n",
    "*   **Efecto del Diámetro (D):** Para una misma gravedad específica de los sólidos, una tubería de mayor diámetro requiere una mayor velocidad de flujo para evitar la sedimentación. Esto se debe a que en tuberías más grandes, las fuerzas de arrastre del fluido son menos efectivas para mantener las partículas en suspensión.\n",
    "*   **Efecto de la Gravedad Específica (S):** A medida que la gravedad específica de los sólidos aumenta (es decir, las partículas son más densas en relación con el fluido), la velocidad de sedimentación límite también aumenta. Esto es intuitivo: las partículas más pesadas requieren un flujo más rápido para mantenerse en suspensión.\n",
    "*   **Punto de No Sedimentación (S=1):** Cuando la gravedad específica de los sólidos es igual a 1 (es decir, la densidad de los sólidos es igual a la del fluido), la velocidad de sedimentación límite es cero. En este caso, las partículas tienen la misma densidad que el fluido y no tienden a asentarse.\n",
    "\n",
    "Este tipo de análisis es fundamental para el diseño eficiente y seguro de sistemas de transporte de lodos en industrias como la minería, el procesamiento de alimentos, la química y el tratamiento de aguas."
   ]
  }
 ],
 "metadata": {
  "kernelspec": {
   "display_name": "Python 3",
   "language": "python",
   "name": "python3"
  },
  "language_info": {
   "name": "python",
   "version": "3.9.12"
  }
 },
 "nbformat": 4,
 "nbformat_minor": 4
}