{
 "cells": [
  {
   "cell_type": "markdown",
   "metadata": {},
   "source": [
    "# 1.3 Operadores Matemáticos: Realizando Cálculos en Ingeniería\n",
    "\n",
    "En ingeniería mecánica, los cálculos son el pan de cada día. Python, con su capacidad para manejar operaciones matemáticas de manera eficiente, se convierte en una calculadora extremadamente potente y flexible.\n",
    "\n",
    "En este notebook, exploraremos los operadores matemáticos básicos que te permitirán realizar desde simples sumas hasta cálculos más complejos involucrados en el diseño y análisis de sistemas mecánicos.\n",
    "\n",
    "---"
   ]
  },
  {
   "cell_type": "markdown",
   "metadata": {},
   "source": [
    "## Operadores Aritméticos Básicos\n",
    "\n",
    "Python soporta los operadores aritméticos tradicionales:\n",
    "\n",
    "*   `+`: Suma\n",
    "*   `-`: Resta\n",
    "*   `*`: Multiplicación\n",
    "*   `/`: División (siempre devuelve un `float`)\n",
    "*   `**`: Exponenciación (potencia)\n",
    "*   `%`: Módulo (resto de la división)\n",
    "*   `//`: División entera (devuelve la parte entera de la división)\n",
    "\n",
    "### Ejercicio:\n",
    "\n",
    "Calcula los siguientes valores utilizando las variables dadas y los operadores correspondientes."
   ]
  },
  {
   "cell_type": "code",
   "execution_count": null,
   "metadata": {},
   "outputs": [],
   "source": [
    "# Datos de ejemplo (unidades en el Sistema Internacional)\n",
    "fuerza_aplicada_N = 1500  # Newtons\n",
    "area_seccion_m2 = 0.0025  # Metros cuadrados\n",
    "\n",
    "longitud_inicial_m = 2.0  # Metros\n",
    "deformacion_m = 0.005   # Metros\n",
    "\n",
    "masa_kg = 100       # Kilogramos\n",
    "aceleracion_ms2 = 9.81  # Metros por segundo al cuadrado (gravedad)\n",
    "\n",
    "diametro_tuberia_mm = 50 # Milímetros\n",
    "\n",
    "# --- Cálculos de Ingeniería ---\n",
    "\n",
    "# 1. Cálculo del esfuerzo (Stress = Fuerza / Área)\n",
    "esfuerzo_Pa = fuerza_aplicada_N / area_seccion_m2\n",
    "print(f\"Esfuerzo: {esfuerzo_Pa:.2f} Pa\")\n",
    "\n",
    "# 2. Cálculo de la deformación unitaria (Strain = Deformación / Longitud Inicial)\n",
    "deformacion_unitaria = deformacion_m / longitud_inicial_m\n",
    "print(f\"Deformación Unitaria: {deformacion_unitaria:.4f}\")\n",
    "\n",
    "# 3. Cálculo de la fuerza (Fuerza = Masa * Aceleración)\n",
    "fuerza_gravitacional_N = masa_kg * aceleracion_ms2\n",
    "print(f\"Fuerza Gravitacional: {fuerza_gravitacional_N:.2f} N\")\n",
    "\n",
    "# 4. Cálculo del área de la sección transversal de una tubería (Área = pi * (Diámetro/2)^2)\n",
    "# Convertimos el diámetro a metros primero\n",
    "diametro_tuberia_m = diametro_tuberia_mm / 1000\n",
    "area_tuberia_m2 = np.pi * (diametro_tuberia_m / 2)**2\n",
    "print(f\"Área de la tubería: {area_tuberia_m2:.6f} m^2\")\n",
    "\n",
    "# 5. Cálculo del volumen de un cilindro (Volumen = Área de la base * Altura)\n",
    "# Asumimos una altura de 1.5 metros para el cilindro\n",
    "altura_cilindro_m = 1.5\n",
    "volumen_cilindro_m3 = area_tuberia_m2 * altura_cilindro_m\n",
    "print(f\"Volumen del cilindro: {volumen_cilindro_m3:.6f} m^3\")"
   ]
  },
  {
   "cell_type": "markdown",
   "metadata": {},
   "source": [
    "## Orden de Operaciones\n",
    "\n",
    "Python sigue el orden estándar de las operaciones matemáticas (PEMDAS/PAPOMUDAS): Paréntesis, Exponentes, Multiplicación y División (de izquierda a derecha), Suma y Resta (de izquierda a derecha).\n",
    "\n",
    "Es crucial usar paréntesis para asegurar que los cálculos se realicen en el orden deseado, especialmente en fórmulas de ingeniería complejas.\n",
    "\n",
    "### Ejercicio:\n",
    "\n",
    "Calcula la siguiente expresión, que podría representar una parte de una fórmula de transferencia de calor o mecánica de fluidos.\n",
    "\n",
    "$$ \text{Resultado} = \frac{(A + B) \cdot C}{D^2} - E $$\n",
    "\n",
    "Donde: \n",
    "*   `A = 10`\n",
    "*   `B = 5`\n",
    "*   `C = 2`\n",
    "*   `D = 4`\n",
    "*   `E = 3`"
   ]
  },
  {
   "cell_type": "code",
   "execution_count": null,
   "metadata": {},
   "outputs": [],
   "source": [
    "A = 10\n",
    "B = 5\n",
    "C = 2\n",
    "D = 4\n",
    "E = 3\n",
    "\n",
    "resultado = ((A + B) * C) / (D**2) - E\n",
    "print(f\"El resultado de la expresión es: {resultado}\")"
   ]
  },
  {
   "cell_type": "markdown",
   "metadata": {},
   "source": [
    "## ¡Sigue Practicando!\n",
    "\n",
    "La práctica hace al maestro. Intenta aplicar estos operadores a otras fórmulas de ingeniería que conozcas. En el siguiente notebook, exploraremos las estructuras de control, que te permitirán tomar decisiones y repetir acciones en tus programas."
   ]
  }
 ],
 "metadata": {
  "kernelspec": {
   "display_name": "Python 3",
   "language": "python",
   "name": "python3"
  },
  "language_info": {
   "name": "python",
   "version": "3.9.12"
  }
 },
 "nbformat": 4,
 "nbformat_minor": 4
}