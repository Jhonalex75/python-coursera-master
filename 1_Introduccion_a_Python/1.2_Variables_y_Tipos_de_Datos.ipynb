{
 "cells": [
  {
   "cell_type": "markdown",
   "metadata": {},
   "source": [
    "# 1.2 Variables y Tipos de Datos: Almacenando Información\n",
    "\n",
    "En programación, las **variables** son como contenedores que utilizamos para almacenar información. Cada pieza de información tiene un **tipo de dato** específico, que le dice a Python qué clase de valor es y qué operaciones se pueden realizar con él.\n",
    "\n",
    "Comprender las variables y los tipos de datos es fundamental, ya que en ingeniería mecánica trabajamos constantemente con diferentes tipos de valores: números (dimensiones, temperaturas, presiones), textos (nombres de materiales, descripciones de componentes) y valores lógicos (si una condición se cumple o no).\n",
    "\n",
    "---"
   ]
  },
  {
   "cell_type": "markdown",
   "metadata": {},
   "source": [
    "## Declaración de Variables\n",
    "\n",
    "En Python, declarar una variable es muy sencillo: simplemente le das un nombre y le asignas un valor usando el signo `.`\n",
    "\n",
    "```python\n",
    "nombre_variable = valor\n",
    "```\n",
    "\n",
    "### Reglas para Nombres de Variables:\n",
    "*   Pueden contener letras (a-z, A-Z), números (0-9) y guiones bajos (`_`).\n",
    "*   No pueden empezar con un número.\n",
    "*   Son sensibles a mayúsculas y minúsculas (`miVariable` es diferente de `mivariable`).\n",
    "*   Evita usar palabras reservadas de Python (como `print`, `if`, `for`, etc.).\n",
    "\n",
    "### Ejercicio:\n",
    "\n",
    "Asigna valores a las siguientes variables y luego imprímelas para ver su contenido."
   ]
  },
  {
   "cell_type": "code",
   "execution_count": null,
   "metadata": {},
   "outputs": [],
   "source": [
    "# Asigna tu nombre a la variable 'nombre_ingeniero'\n",
    "nombre_ingeniero = \"[Tu Nombre Aquí]\"\n",
    "\n",
    "# Asigna la temperatura de operación de un motor en grados Celsius\n",
    "temperatura_motor_celsius = 95.5\n",
    "\n",
    "# Asigna el diámetro de una tubería en metros\n",
    "diametro_tuberia_metros = 0.15\n",
    "\n",
    "# Imprime los valores de las variables\n",
    "print(\"Nombre del Ingeniero:\", nombre_ingeniero)\n",
    "print(\"Temperatura del Motor:\", temperatura_motor_celsius, \"°C\")\n",
    "print(\"Diámetro de la Tubería:\", diametro_tuberia_metros, \"m\")"
   ]
  },
  {
   "cell_type": "markdown",
   "metadata": {},
   "source": [
    "## Tipos de Datos Comunes\n",
    "\n",
    "Python infiere automáticamente el tipo de dato de una variable según el valor que le asignes. Los tipos más comunes que usaremos son:\n",
    "\n",
    "1.  **Números Enteros (`int`):** Para números sin decimales.\n",
    "    ```python\n",
    "    cantidad_engranajes = 12\n",
    "    ```\n",
    "2.  **Números de Punto Flotante (`float`):** Para números con decimales.\n",
    "    ```python\n",
    "    presion_psi = 150.75\n",
    "    ```\n",
    "3.  **Cadenas de Texto (`str`):** Para secuencias de caracteres (texto). Se encierran entre comillas simples o dobles.\n",
    "    ```python\n",
    "    material = \"Acero Inoxidable\"\n",
    "    ```\n",
    "4.  **Booleanos (`bool`):** Para valores lógicos `True` (verdadero) o `False` (falso). Útiles para condiciones.\n",
    "    ```python\n",
    "    es_seguro = True\n",
    "    ```\n",
    "\n",
    "Puedes usar la función `type()` para verificar el tipo de dato de una variable.\n",
    "\n",
    "### Ejercicio:\n",
    "\n",
    "Crea variables con diferentes tipos de datos y usa `type()` para confirmar su tipo."
   ]
  },
  {
   "cell_type": "code",
   "execution_count": null,
   "metadata": {},
   "outputs": [],
   "source": [
    "# Número entero: número de ciclos de fatiga\n",
    "ciclos_fatiga = 1000000\n",
    "print(f\"Valor: {ciclos_fatiga}, Tipo: {type(ciclos_fatiga)}\")\n",
    "\n",
    "# Número de punto flotante: coeficiente de fricción\n",
    "coeficiente_friccion = 0.35\n",
    "print(f\"Valor: {coeficiente_friccion}, Tipo: {type(coeficiente_friccion)}\")\n",
    "\n",
    "# Cadena de texto: tipo de rodamiento\n",
    "tipo_rodamiento = \"Rodamiento de Bolas\"\n",
    "print(f\"Valor: {tipo_rodamiento}, Tipo: {type(tipo_rodamiento)}\")\n",
    "\n",
    "# Booleano: ¿el diseño cumple con las normas de seguridad?\n",
    "cumple_normas_seguridad = True\n",
    "print(f\"Valor: {cumple_normas_seguridad}, Tipo: {type(cumple_normas_seguridad)}\")"
   ]
  },
  {
   "cell_type": "markdown",
   "metadata": {},
   "source": [
    "## Conversión de Tipos de Datos (Casting)\n",
    "\n",
    "A veces, necesitarás convertir un valor de un tipo de dato a otro. Python proporciona funciones integradas para esto:\n",
    "\n",
    "*   `int()`: Convierte a entero.\n",
    "*   `float()`: Convierte a punto flotante.\n",
    "*   `str()`: Convierte a cadena de texto.\n",
    "\n",
    "### Ejercicio:\n",
    "\n",
    "Convierte los siguientes valores a los tipos de datos indicados."
   ]
  },
  {
   "cell_type": "code",
   "execution_count": null,
   "metadata": {},
   "outputs": [],
   "source": [
    "# Un valor de temperatura como texto\n",
    "temp_str = \"25.7\"\n",
    "# Conviértelo a float\n",
    "temp_float = float(temp_str)\n",
    "print(f\"De str a float: {temp_float}, Tipo: {type(temp_float)}\")\n",
    "\n",
    "# Un número de piezas como float\n",
    "piezas_float = 5.0\n",
    "# Conviértelo a int\n",
    "piezas_int = int(piezas_float)\n",
    "print(f\"De float a int: {piezas_int}, Tipo: {type(piezas_int)}\")\n",
    "\n",
    "# Un número entero\n",
    "numero_serie = 12345\n",
    "# Conviértelo a str para concatenarlo con otro texto\n",
    "numero_serie_str = str(numero_serie)\n",
    "print(f\"De int a str: {numero_serie_str}, Tipo: {type(numero_serie_str)}\")\n",
    "print(\"El número de serie es: \" + numero_serie_str)"
   ]
  },
  {
   "cell_type": "markdown",
   "metadata": {},
   "source": [
    "## ¡Continúa Aprendiendo!\n",
    "\n",
    "Ahora que entiendes cómo funcionan las variables y los tipos de datos, estás listo para el siguiente paso: ¡realizar operaciones matemáticas y lógicas con ellos!\n",
    "\n",
    "En el próximo notebook, exploraremos los operadores en Python."
   ]
  }
 ],
 "metadata": {
  "kernelspec": {
   "display_name": "Python 3",
   "language": "python",
   "name": "python3"
  },
  "language_info": {
   "name": "python",
   "version": "3.9.12"
  }
 },
 "nbformat": 4,
 "nbformat_minor": 4
}