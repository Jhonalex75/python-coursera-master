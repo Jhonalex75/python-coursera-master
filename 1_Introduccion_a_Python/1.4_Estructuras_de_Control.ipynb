{
 "cells": [
  {
   "cell_type": "markdown",
   "metadata": {},
   "source": [
    "# 1.4 Estructuras de Control: Tomando Decisiones y Repitiendo Tareas\n",
    "\n",
    "En ingeniería, a menudo necesitamos que nuestros programas tomen decisiones basadas en ciertas condiciones o que repitan una serie de acciones varias veces. Aquí es donde entran en juego las **estructuras de control**.\n",
    "\n",
    "Este notebook te introducirá a las estructuras de control fundamentales en Python: las sentencias condicionales (`if`, `elif`, `else`) para tomar decisiones, y los bucles (`for`, `while`) para automatizar tareas repetitivas. Estas herramientas son indispensables para crear programas que simulen comportamientos complejos o procesen grandes volúmenes de datos de ingeniería.\n",
    "\n",
    "---"
   ]
  },
  {
   "cell_type": "markdown",
   "metadata": {},
   "source": [
    "## Sentencias Condicionales (`if`, `elif`, `else`)\n",
    "\n",
    "Las sentencias condicionales nos permiten ejecutar bloques de código solo si se cumple una determinada condición. Son la base para la lógica de decisión en cualquier programa.\n",
    "\n",
    "*   `if`: Ejecuta un bloque de código si la condición es verdadera.\n",
    "*   `elif` (else if): Ejecuta un bloque de código si la condición anterior fue falsa y esta nueva condición es verdadera.\n",
    "*   `else`: Ejecuta un bloque de código si ninguna de las condiciones anteriores fue verdadera.\n",
    "\n",
    "### Operadores de Comparación:\n",
    "\n",
    "Para definir las condiciones, usamos operadores de comparación:\n",
    "*   `==`: Igual a\n",
    "*   `!=`: Diferente de\n",
    "*   `>`: Mayor que\n",
    "*   `<`: Menor que\n",
    "*   `>=`: Mayor o igual que\n",
    "*   `<=`: Menor o igual que\n",
    "\n",
    "### Ejercicio: Verificación de Esfuerzo\n",
    "\n",
    "Imagina que estás diseñando un componente y necesitas verificar si el esfuerzo calculado excede el límite de fluencia del material. Escribe un código que, dada una `esfuerzo_calculado` y un `limite_fluencia`, imprima un mensaje indicando si el diseño es seguro o si el material fallará."
   ]
  },
  {
   "cell_type": "code",
   "execution_count": null,
   "metadata": {},
   "outputs": [],
   "source": [
    "esfuerzo_calculado_MPa = 250  # Esfuerzo en MegaPascales (MPa)\n",
    "limite_fluencia_MPa = 300   # Límite de fluencia del material en MPa\n",
    "\n",
    "if esfuerzo_calculado_MPa < limite_fluencia_MPa:\n",
    "    print(\"El diseño es seguro. El esfuerzo está por debajo del límite de fluencia.\")\n",
    "elif esfuerzo_calculado_MPa == limite_fluencia_MPa:\n",
    "    print(\"El esfuerzo calculado es igual al límite de fluencia. Se recomienda precaución.\")\n",
    "else:\n",
    "    print(\"¡Advertencia! El esfuerzo calculado excede el límite de fluencia. El material podría fallar.\")\n",
    "\n",
    "# Prueba con otros valores:\n",
    "# esfuerzo_calculado_MPa = 320\n",
    "# limite_fluencia_MPa = 300\n",
    "# if esfuerzo_calculado_MPa < limite_fluencia_MPa:\n",
    "#     print(\"El diseño es seguro. El esfuerzo está por debajo del límite de fluencia.\")\n",
    "# elif esfuerzo_calculado_MPa == limite_fluencia_MPa:\n",
    "#     print(\"El esfuerzo calculado es igual al límite de fluencia. Se recomienda precaución.\")\n",
    "# else:\n",
    "#     print(\"¡Advertencia! El esfuerzo calculado excede el límite de fluencia. El material podría fallar.\")"
   ]
  },
  {
   "cell_type": "markdown",
   "metadata": {},
   "source": [
    "## Bucles (`for` y `while`)\n",
    "\n",
    "Los bucles nos permiten ejecutar un bloque de código varias veces. Son esenciales para automatizar tareas repetitivas, como procesar una lista de datos o realizar simulaciones iterativas.\n",
    "\n",
    "### Bucle `for`\n",
    "\n",
    "El bucle `for` se utiliza para iterar sobre una secuencia (como una lista, una cadena de texto o un rango de números). Es ideal cuando sabes de antemano cuántas veces quieres repetir una acción.\n",
    "\n",
    "### Ejercicio: Cálculo de Resistencia de Materiales\n",
    "\n",
    "Tienes una lista de diámetros de barras y quieres calcular el área de la sección transversal para cada una. Utiliza un bucle `for` para automatizar este cálculo."
   ]
  },
  {
   "cell_type": "code",
   "execution_count": null,
   "metadata": {},
   "outputs": [],
   "source": [
    "import math\n",
    "\n",
    "diametros_mm = [10, 12, 15, 18, 20]  # Diámetros de las barras en milímetros\n",
    "\n",
    "print(\"Cálculo de Áreas de Sección Transversal:\")\n",
    "for diametro in diametros_mm:\n",
    "    radio_mm = diametro / 2\n",
    "    area_mm2 = math.pi * (radio_mm ** 2)\n",
    "    print(f\"  - Diámetro: {diametro} mm, Área: {area_mm2:.2f} mm²\")"
   ]
  },
  {
   "cell_type": "markdown",
   "metadata": {},
   "source": [
    "### Bucle `while`\n",
    "\n",
    "El bucle `while` ejecuta un bloque de código mientras una condición sea verdadera. Es útil cuando no sabes de antemano cuántas veces se repetirá la acción, sino que depende de que una condición se cumpla o deje de cumplirse.\n",
    "\n",
    "### Ejercicio: Simulación de Desgaste\n",
    "\n",
    "Simula el desgaste de un componente. Un componente tiene una vida útil inicial y se desgasta un cierto porcentaje en cada ciclo. El bucle debe continuar mientras la vida útil restante sea superior a un umbral mínimo."
   ]
  },
  {
   "cell_type": "code",
   "execution_count": null,
   "metadata": {},
   "outputs": [],
   "source": [
    "vida_util_inicial_porcentaje = 100\n",
    "desgaste_por_ciclo_porcentaje = 5\n",
    "vida_util_minima_porcentaje = 20\n",
    "\n",
    "ciclo = 0\n",
    "vida_util_actual_porcentaje = vida_util_inicial_porcentaje\n",
    "\n",
    "print(\"Simulación de Desgaste del Componente:\")\n",
    "while vida_util_actual_porcentaje > vida_util_minima_porcentaje:\n",
    "    print(f\"  - Ciclo {ciclo}: Vida útil restante: {vida_util_actual_porcentaje:.1f}%\")\n",
    "    vida_util_actual_porcentaje -= desgaste_por_ciclo_porcentaje\n",
    "    ciclo += 1\n",
    "\n",
    "print(f\"El componente ha alcanzado su vida útil mínima en el ciclo {ciclo}. Vida útil restante: {vida_util_actual_porcentaje:.1f}%\")"
   ]
  },
  {
   "cell_type": "markdown",
   "metadata": {},
   "source": [
    "## ¡Dominando el Flujo de tu Programa!\n",
    "\n",
    "Con las estructuras de control, ahora puedes hacer que tus programas tomen decisiones inteligentes y automaticen tareas repetitivas. Esto es un paso gigante hacia la creación de herramientas de ingeniería más sofisticadas.\n",
    "\n",
    "En el próximo módulo, nos adentraremos en las librerías esenciales de Python para la ingeniería, como NumPy y Matplotlib, que te permitirán realizar cálculos numéricos avanzados y crear visualizaciones impresionantes."
   ]
  }
 ],
 "metadata": {
  "kernelspec": {
   "display_name": "Python 3",
   "language": "python",
   "name": "python3"
  },
  "language_info": {
   "name": "python",
   "version": "3.9.12"
  }
 },
 "nbformat": 4,
 "nbformat_minor": 4
}