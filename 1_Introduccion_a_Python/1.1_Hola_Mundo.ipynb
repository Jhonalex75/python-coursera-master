{
 "cells": [
  {
   "cell_type": "markdown",
   "metadata": {},
   "source": [
    "# 1.1 ¡Hola, Mundo! - Tu Primer Programa en Python\n",
    "\n",
    "¡Bienvenido al mundo de la programación con Python! En este primer notebook, vamos a escribir y ejecutar nuestro programa más simple: el clásico "¡Hola, Mundo!".\n",
    "\n",
    "Este ejercicio te ayudará a familiarizarte con el entorno de Jupyter Notebook y a entender cómo se ejecuta el código en Python.\n",
    "\n",
    "---"
   ]
  },
  {
   "cell_type": "markdown",
   "metadata": {},
   "source": [
    "## ¿Qué es una Celda de Código?\n",
    "\n",
    "En Jupyter Notebook, el código se escribe en "celdas de código". Cada celda puede contener una o varias líneas de código Python. Cuando ejecutas una celda, el código dentro de ella se procesa y los resultados se muestran justo debajo de la celda.\n",
    "\n",
    "## Tu Primer "¡Hola, Mundo!"\n",
    "\n",
    "Para imprimir un mensaje en la pantalla en Python, utilizamos la función `print()`. Dentro de los paréntesis, colocamos el texto que queremos mostrar, encerrado entre comillas (simples `' ' ` o dobles `" " `).\n",
    "\n",
    "### Ejercicio:\n",
    "\n",
    "1.  Haz clic en la celda de código de abajo para seleccionarla.\n",
    "2.  Presiona `Shift + Enter` (o haz clic en el botón "Run" en la barra de herramientas de arriba) para ejecutar el código.\n",
    "3.  Observa la salida debajo de la celda."
   ]
  },
  {
   "cell_type": "code",
   "execution_count": null,
   "metadata": {},
   "outputs": [],
   "source": [
    "print(\"¡Hola, Mundo!\")\n",
    "print(\"¡Estoy aprendiendo Python para Ingeniería Mecánica!\")"
   ]
  },
  {
   "cell_type": "markdown",
   "metadata": {},
   "source": [
    "## ¡Felicidades!\n",
    "\n",
    "Acabas de escribir y ejecutar tu primer programa en Python. En los siguientes notebooks, exploraremos conceptos más avanzados que te permitirán resolver problemas de ingeniería."
   ]
  }
 ],
 "metadata": {
  "kernelspec": {
   "display_name": "Python 3",
   "language": "python",
   "name": "python3"
  },
  "language_info": {
   "name": "python",
   "version": "3.9.12"
  }
 },
 "nbformat": 4,
 "nbformat_minor": 4
}